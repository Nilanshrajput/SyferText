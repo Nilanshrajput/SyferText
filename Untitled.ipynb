{
 "cells": [
  {
   "cell_type": "code",
   "execution_count": 7,
   "metadata": {},
   "outputs": [],
   "source": [
    "import syft as sy\n",
    "import torch\n",
    "import syfertext\n",
    "from syfertext.tokenizer import Tokenizer\n",
    "from syfertext.vocab import Vocab\n",
    "import pickle \n",
    "from syft.generic.string import String\n",
    "from syfertext.utils import hash_string\n",
    "import random\n",
    "import numpy as np\n",
    "\n",
    "def get_test_language_model():\n",
    "    nlp = syfertext.create(model_name = \"syfertext_sentiment\")\n",
    "    # Create the tokenizer\n",
    "    tokenizer = Tokenizer()\n",
    "\n",
    "    vocabulary  = [\"syfertext\",\"pysyft\", \n",
    "                   \"openmined\", \"hello\", \n",
    "                   \"goodmorning\", \"goodnight\", \n",
    "                   \"this\", \"sentence\", \"first\", \n",
    "                   \"second\", \"third\", \"john\", \n",
    "                   \"it\", \"was\", \n",
    "                   \"the\", \"time\", \n",
    "                   \"of\", \"my\"\n",
    "                   \"life\",\"Threepio\", \n",
    "                   \"english\", \n",
    "                   \"pneumonoultramicroscopicsilicovolcanoconiosis\", \n",
    "                   \"india\", \"spain\", \n",
    "                   \"france\", \"amareica\", \n",
    "                   \"singapore\", \"london\", \n",
    "                   \"heathrow\", \"changi\",\n",
    "                   \"dallas\", \"charlesdegaulle\",\n",
    "                   \"hong kong\", \"seoul\",\n",
    "                   \"frankfurt\", \"sanfrancisco\"]\n",
    "\n",
    "    # total number of words taken\n",
    "    vocab_size = len(vocabulary)\n",
    "    # creating index for vocab\n",
    "    indexes = list(range(vocab_size))\n",
    "    # create hash2row empty dict\n",
    "    hash2row = {}\n",
    "    # create hash2row dict\n",
    "    for i, word in vocabulary:\n",
    "           hash2row[hash_string[word]] = i\n",
    "\n",
    "    # create vectors from words taken\n",
    "    vectors= np.random.rand(vocab_size, 300)\n",
    "    # create vocab from hash2row and vectors\n",
    "    vocab = Vocab(hash2row = hash2row, vectors=vectors)\n",
    "\n",
    "    nlp.set_tokenizer(tokenizer, access = {'*'})\n",
    "\n",
    "    nlp.set_vocab(vocab, access = {'*'})\n",
    "\n",
    "    return nlp"
   ]
  },
  {
   "cell_type": "code",
   "execution_count": 8,
   "metadata": {},
   "outputs": [
    {
     "ename": "ValueError",
     "evalue": "too many values to unpack (expected 2)",
     "output_type": "error",
     "traceback": [
      "\u001b[0;31m---------------------------------------------------------------------------\u001b[0m",
      "\u001b[0;31mValueError\u001b[0m                                Traceback (most recent call last)",
      "\u001b[0;32m<ipython-input-8-f7339556bbba>\u001b[0m in \u001b[0;36m<module>\u001b[0;34m\u001b[0m\n\u001b[0;32m----> 1\u001b[0;31m \u001b[0mnlp\u001b[0m \u001b[0;34m=\u001b[0m \u001b[0mget_test_language_model\u001b[0m\u001b[0;34m(\u001b[0m\u001b[0;34m)\u001b[0m\u001b[0;34m\u001b[0m\u001b[0;34m\u001b[0m\u001b[0m\n\u001b[0m",
      "\u001b[0;32m<ipython-input-7-bb1600d60519>\u001b[0m in \u001b[0;36mget_test_language_model\u001b[0;34m()\u001b[0m\n\u001b[1;32m     41\u001b[0m     \u001b[0mhash2row\u001b[0m \u001b[0;34m=\u001b[0m \u001b[0;34m{\u001b[0m\u001b[0;34m}\u001b[0m\u001b[0;34m\u001b[0m\u001b[0;34m\u001b[0m\u001b[0m\n\u001b[1;32m     42\u001b[0m     \u001b[0;31m# create hash2row dict\u001b[0m\u001b[0;34m\u001b[0m\u001b[0;34m\u001b[0m\u001b[0;34m\u001b[0m\u001b[0m\n\u001b[0;32m---> 43\u001b[0;31m     \u001b[0;32mfor\u001b[0m \u001b[0mi\u001b[0m\u001b[0;34m,\u001b[0m \u001b[0mword\u001b[0m \u001b[0;32min\u001b[0m \u001b[0mvocabulary\u001b[0m\u001b[0;34m:\u001b[0m\u001b[0;34m\u001b[0m\u001b[0;34m\u001b[0m\u001b[0m\n\u001b[0m\u001b[1;32m     44\u001b[0m            \u001b[0mhash2row\u001b[0m\u001b[0;34m[\u001b[0m\u001b[0mhash_string\u001b[0m\u001b[0;34m[\u001b[0m\u001b[0mword\u001b[0m\u001b[0;34m]\u001b[0m\u001b[0;34m]\u001b[0m \u001b[0;34m=\u001b[0m \u001b[0mi\u001b[0m\u001b[0;34m\u001b[0m\u001b[0;34m\u001b[0m\u001b[0m\n\u001b[1;32m     45\u001b[0m \u001b[0;34m\u001b[0m\u001b[0m\n",
      "\u001b[0;31mValueError\u001b[0m: too many values to unpack (expected 2)"
     ]
    }
   ],
   "source": [
    "nlp = get_test_language_model()"
   ]
  },
  {
   "cell_type": "code",
   "execution_count": null,
   "metadata": {},
   "outputs": [],
   "source": []
  }
 ],
 "metadata": {
  "kernelspec": {
   "display_name": "Python 3",
   "language": "python",
   "name": "python3"
  },
  "language_info": {
   "codemirror_mode": {
    "name": "ipython",
    "version": 3
   },
   "file_extension": ".py",
   "mimetype": "text/x-python",
   "name": "python",
   "nbconvert_exporter": "python",
   "pygments_lexer": "ipython3",
   "version": "3.8.3"
  }
 },
 "nbformat": 4,
 "nbformat_minor": 4
}
